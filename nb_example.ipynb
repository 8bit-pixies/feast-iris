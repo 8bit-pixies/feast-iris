{
 "cells": [
  {
   "cell_type": "code",
   "execution_count": 3,
   "id": "af7f39d1-b5e4-4126-a4bf-d15e8a3074ef",
   "metadata": {},
   "outputs": [
    {
     "name": "stderr",
     "output_type": "stream",
     "text": [
      "/home/chapman/anaconda3/envs/spacy2/lib/python3.9/site-packages/ipykernel/ipkernel.py:283: DeprecationWarning: `should_run_async` will not call `transform_cell` automatically in the future. Please pass the result to `transformed_cell` argument and any exception that happen during thetransform in `preprocessing_exc_tuple` in IPython 7.17 and above.\n",
      "  and should_run_async(code)\n"
     ]
    }
   ],
   "source": [
    "from sklearn.datasets import load_iris\n",
    "import pandas as pd\n",
    "import datetime\n",
    "from feast import FeatureStore\n",
    "\n",
    "\n",
    "iris = load_iris()\n",
    "df = pd.DataFrame(iris['data'], columns=['sepal_length', 'sepal_width', 'petal_length', 'petal_width'])\n",
    "df['target'] = iris['target']\n",
    "df['iris_id'] = df.index\n",
    "\n",
    "# add event_timestamp\n",
    "df['event_timestamp'] = pd.to_datetime(datetime.datetime.now())\n",
    "df.to_parquet(\"iris_example/data/iris.parquet\")\n"
   ]
  },
  {
   "cell_type": "code",
   "execution_count": 4,
   "id": "9eb63f71-0849-4bc2-9a48-035fe320ac02",
   "metadata": {},
   "outputs": [],
   "source": [
    "\n",
    "store = FeatureStore(\"./iris_example\")\n",
    "\n",
    "entity_df = pd.DataFrame({\n",
    "    'iris_id':[1],\n",
    "    'event_timestamp':[pd.to_datetime(datetime.datetime.now())]\n",
    "})\n",
    "\n",
    "training_df = store.get_historical_features(\n",
    "    entity_df=entity_df,\n",
    "    feature_refs=[\n",
    "        'iris:sepal_length',\n",
    "        'iris:target'\n",
    "    ]\n",
    ")\n",
    "\n"
   ]
  },
  {
   "cell_type": "code",
   "execution_count": 5,
   "id": "6bbba3d2-91cd-4262-8ecd-4b5724b0cd5f",
   "metadata": {},
   "outputs": [
    {
     "data": {
      "text/html": [
       "<div>\n",
       "<style scoped>\n",
       "    .dataframe tbody tr th:only-of-type {\n",
       "        vertical-align: middle;\n",
       "    }\n",
       "\n",
       "    .dataframe tbody tr th {\n",
       "        vertical-align: top;\n",
       "    }\n",
       "\n",
       "    .dataframe thead th {\n",
       "        text-align: right;\n",
       "    }\n",
       "</style>\n",
       "<table border=\"1\" class=\"dataframe\">\n",
       "  <thead>\n",
       "    <tr style=\"text-align: right;\">\n",
       "      <th></th>\n",
       "      <th>event_timestamp</th>\n",
       "      <th>iris_id</th>\n",
       "      <th>iris__sepal_length</th>\n",
       "      <th>iris__target</th>\n",
       "    </tr>\n",
       "  </thead>\n",
       "  <tbody>\n",
       "    <tr>\n",
       "      <th>0</th>\n",
       "      <td>2021-07-09 07:07:44.100370+00:00</td>\n",
       "      <td>1</td>\n",
       "      <td>4.9</td>\n",
       "      <td>0</td>\n",
       "    </tr>\n",
       "  </tbody>\n",
       "</table>\n",
       "</div>"
      ],
      "text/plain": [
       "                   event_timestamp  iris_id  iris__sepal_length  iris__target\n",
       "0 2021-07-09 07:07:44.100370+00:00        1                 4.9             0"
      ]
     },
     "execution_count": 5,
     "metadata": {},
     "output_type": "execute_result"
    }
   ],
   "source": [
    "training_df.to_df()"
   ]
  }
 ],
 "metadata": {
  "kernelspec": {
   "display_name": "Python 3",
   "language": "python",
   "name": "python3"
  },
  "language_info": {
   "codemirror_mode": {
    "name": "ipython",
    "version": 3
   },
   "file_extension": ".py",
   "mimetype": "text/x-python",
   "name": "python",
   "nbconvert_exporter": "python",
   "pygments_lexer": "ipython3",
   "version": "3.9.5"
  }
 },
 "nbformat": 4,
 "nbformat_minor": 5
}
